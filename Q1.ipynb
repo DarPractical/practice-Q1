{
 "cells": [
  {
   "cell_type": "code",
   "execution_count": 1,
   "id": "48520d58-a963-4df6-adb0-3edc5ae3a565",
   "metadata": {},
   "outputs": [
    {
     "name": "stdin",
     "output_type": "stream",
     "text": [
      "ENTER SENTENCE  : HELLO darshan roy how are  you\n"
     ]
    },
    {
     "name": "stdout",
     "output_type": "stream",
     "text": [
      "THE REVERSED ORDER OF SENTANCE IS You Are How Roy Darshan Hello\n",
      "THE TOTAL NUMBER OF WORDS = 6\n",
      "THE NEW CAPITALIZED SENTANCE IS Hello Darshan Roy How Are You\n",
      "THE NUMBER OF VOWELS IN A SENTENCE 10\n"
     ]
    }
   ],
   "source": [
    "\"\"\" Write a Python program that accepts a sentence as input and performs the following operations:\n",
    "\n",
    "Count the total number of words in the sentence.\n",
    "Count the number of vowels (a, e, i, o, u) in the sentence.\n",
    "Reverse the order of the words in the sentence.\n",
    "Capitalize the first letter of each word in the sentence. \"\"\"\n",
    "\n",
    "\n",
    "\n",
    "class operation:\n",
    "\n",
    "    def __init__(self,sentance):\n",
    "        self.sentance=sentance\n",
    "\n",
    "    def total_number(self):\n",
    "        words=self.sentance.split()\n",
    "        list1=[]\n",
    "        for word in words:\n",
    "            list1.append(word)\n",
    "\n",
    "        return f\"THE TOTAL NUMBER OF WORDS = :{len(list1)}\"\n",
    "    \n",
    "\n",
    "    def count_vowels(self):\n",
    "    # Define a set of vowels\n",
    "        vowels = set('aeiouAEIOU')\n",
    "        \n",
    "        # Initialize a count variable\n",
    "        vowel_count = 0\n",
    "        \n",
    "        # Iterate through each character in the sentence\n",
    "        for char in self.sentance:\n",
    "            # Check if the character is a vowel\n",
    "            if char in vowels:\n",
    "                # Increment the count if it is a vowel\n",
    "                vowel_count += 1\n",
    "                \n",
    "        return f\"THE NUMBER OF VOWELS IN A SENTENCE :{vowel_count}\"\n",
    "\n",
    "    \n",
    "\n",
    "    def reverse_order(self):\n",
    "        words=self.sentance.split()\n",
    "        list3=[]\n",
    "        for word in words:\n",
    "            new_word=word.title()\n",
    "            list3.append(new_word)\n",
    "            list4=list3[::-1]\n",
    "\n",
    "            sen=' '.join(list4)\n",
    "\n",
    "        return f\"THE REVERSED ORDER OF SENTANCE IS :{sen}\"\n",
    "    \n",
    "\n",
    "    def title_order(self):\n",
    "        words=self.sentance.split()\n",
    "        list3=[]\n",
    "        for word in words:\n",
    "            new_word=word.title()\n",
    "            list3.append(new_word)\n",
    "\n",
    "            sen=' '.join(list3)\n",
    "\n",
    "        return f\"THE NEW CAPITALIZED SENTANCE IS {sen}\"\n",
    "sENT=input(\"ENTER SENTENCE  :\")\n",
    "obj1=operation(sENT)\n",
    "\n",
    "sen1=obj1.total_number()\n",
    "sen2=obj1.title_order()\n",
    "sen3=obj1.reverse_order()\n",
    "sen4=obj1.count_vowels()\n",
    "\n",
    "print(sen3)\n",
    "print(sen1)\n",
    "print(sen2)\n",
    "print(sen4)"
   ]
  },
  {
   "cell_type": "code",
   "execution_count": null,
   "id": "bace86f5-afbe-49d5-9759-09901fe64c7f",
   "metadata": {},
   "outputs": [],
   "source": []
  }
 ],
 "metadata": {
  "kernelspec": {
   "display_name": "Python 3 (ipykernel)",
   "language": "python",
   "name": "python3"
  },
  "language_info": {
   "codemirror_mode": {
    "name": "ipython",
    "version": 3
   },
   "file_extension": ".py",
   "mimetype": "text/x-python",
   "name": "python",
   "nbconvert_exporter": "python",
   "pygments_lexer": "ipython3",
   "version": "3.10.8"
  }
 },
 "nbformat": 4,
 "nbformat_minor": 5
}
